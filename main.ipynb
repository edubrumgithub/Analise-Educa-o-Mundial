{
 "cells": [
  {
   "cell_type": "markdown",
   "metadata": {},
   "source": [
    "##### Base de dados:\n",
    "- ###### https://www.kaggle.com/datasets/bushraqurban/world-education-dataset/data"
   ]
  },
  {
   "cell_type": "code",
   "execution_count": 77,
   "metadata": {},
   "outputs": [],
   "source": [
    "# Libs\n",
    "import pandas as pd\n",
    "import numpy as np\n",
    "\n",
    "import matplotlib.pyplot as plt\n",
    "import seaborn as sns"
   ]
  },
  {
   "cell_type": "code",
   "execution_count": 78,
   "metadata": {},
   "outputs": [
    {
     "data": {
      "text/html": [
       "<div>\n",
       "<style scoped>\n",
       "    .dataframe tbody tr th:only-of-type {\n",
       "        vertical-align: middle;\n",
       "    }\n",
       "\n",
       "    .dataframe tbody tr th {\n",
       "        vertical-align: top;\n",
       "    }\n",
       "\n",
       "    .dataframe thead th {\n",
       "        text-align: right;\n",
       "    }\n",
       "</style>\n",
       "<table border=\"1\" class=\"dataframe\">\n",
       "  <thead>\n",
       "    <tr style=\"text-align: right;\">\n",
       "      <th></th>\n",
       "      <th>country</th>\n",
       "      <th>country_code</th>\n",
       "      <th>year</th>\n",
       "      <th>gov_exp_pct_gdp</th>\n",
       "      <th>lit_rate_adult_pct</th>\n",
       "      <th>pri_comp_rate_pct</th>\n",
       "      <th>pupil_teacher_primary</th>\n",
       "      <th>pupil_teacher_secondary</th>\n",
       "      <th>school_enrol_primary_pct</th>\n",
       "      <th>school_enrol_secondary_pct</th>\n",
       "      <th>school_enrol_tertiary_pct</th>\n",
       "    </tr>\n",
       "  </thead>\n",
       "  <tbody>\n",
       "    <tr>\n",
       "      <th>0</th>\n",
       "      <td>Afghanistan</td>\n",
       "      <td>AFG</td>\n",
       "      <td>1999</td>\n",
       "      <td>NaN</td>\n",
       "      <td>NaN</td>\n",
       "      <td>NaN</td>\n",
       "      <td>33.18571</td>\n",
       "      <td>NaN</td>\n",
       "      <td>27.298849</td>\n",
       "      <td>NaN</td>\n",
       "      <td>NaN</td>\n",
       "    </tr>\n",
       "    <tr>\n",
       "      <th>1</th>\n",
       "      <td>Afghanistan</td>\n",
       "      <td>AFG</td>\n",
       "      <td>2000</td>\n",
       "      <td>NaN</td>\n",
       "      <td>NaN</td>\n",
       "      <td>NaN</td>\n",
       "      <td>NaN</td>\n",
       "      <td>NaN</td>\n",
       "      <td>22.162991</td>\n",
       "      <td>NaN</td>\n",
       "      <td>NaN</td>\n",
       "    </tr>\n",
       "    <tr>\n",
       "      <th>2</th>\n",
       "      <td>Afghanistan</td>\n",
       "      <td>AFG</td>\n",
       "      <td>2001</td>\n",
       "      <td>NaN</td>\n",
       "      <td>NaN</td>\n",
       "      <td>NaN</td>\n",
       "      <td>NaN</td>\n",
       "      <td>NaN</td>\n",
       "      <td>22.908590</td>\n",
       "      <td>14.47151</td>\n",
       "      <td>NaN</td>\n",
       "    </tr>\n",
       "    <tr>\n",
       "      <th>3</th>\n",
       "      <td>Afghanistan</td>\n",
       "      <td>AFG</td>\n",
       "      <td>2002</td>\n",
       "      <td>NaN</td>\n",
       "      <td>NaN</td>\n",
       "      <td>NaN</td>\n",
       "      <td>NaN</td>\n",
       "      <td>NaN</td>\n",
       "      <td>75.959747</td>\n",
       "      <td>NaN</td>\n",
       "      <td>NaN</td>\n",
       "    </tr>\n",
       "    <tr>\n",
       "      <th>4</th>\n",
       "      <td>Afghanistan</td>\n",
       "      <td>AFG</td>\n",
       "      <td>2003</td>\n",
       "      <td>NaN</td>\n",
       "      <td>NaN</td>\n",
       "      <td>NaN</td>\n",
       "      <td>NaN</td>\n",
       "      <td>NaN</td>\n",
       "      <td>96.553680</td>\n",
       "      <td>14.07805</td>\n",
       "      <td>1.38107</td>\n",
       "    </tr>\n",
       "  </tbody>\n",
       "</table>\n",
       "</div>"
      ],
      "text/plain": [
       "       country country_code  year  gov_exp_pct_gdp  lit_rate_adult_pct  \\\n",
       "0  Afghanistan          AFG  1999              NaN                 NaN   \n",
       "1  Afghanistan          AFG  2000              NaN                 NaN   \n",
       "2  Afghanistan          AFG  2001              NaN                 NaN   \n",
       "3  Afghanistan          AFG  2002              NaN                 NaN   \n",
       "4  Afghanistan          AFG  2003              NaN                 NaN   \n",
       "\n",
       "   pri_comp_rate_pct  pupil_teacher_primary  pupil_teacher_secondary  \\\n",
       "0                NaN               33.18571                      NaN   \n",
       "1                NaN                    NaN                      NaN   \n",
       "2                NaN                    NaN                      NaN   \n",
       "3                NaN                    NaN                      NaN   \n",
       "4                NaN                    NaN                      NaN   \n",
       "\n",
       "   school_enrol_primary_pct  school_enrol_secondary_pct  \\\n",
       "0                 27.298849                         NaN   \n",
       "1                 22.162991                         NaN   \n",
       "2                 22.908590                    14.47151   \n",
       "3                 75.959747                         NaN   \n",
       "4                 96.553680                    14.07805   \n",
       "\n",
       "   school_enrol_tertiary_pct  \n",
       "0                        NaN  \n",
       "1                        NaN  \n",
       "2                        NaN  \n",
       "3                        NaN  \n",
       "4                    1.38107  "
      ]
     },
     "execution_count": 78,
     "metadata": {},
     "output_type": "execute_result"
    }
   ],
   "source": [
    "# Lendo os dados\n",
    "base_dados = pd.read_csv('world-education-data.csv')\n",
    "\n",
    "# Visualizando os dados\n",
    "base_dados.head()"
   ]
  },
  {
   "cell_type": "code",
   "execution_count": 79,
   "metadata": {},
   "outputs": [
    {
     "name": "stdout",
     "output_type": "stream",
     "text": [
      "<class 'pandas.core.frame.DataFrame'>\n",
      "RangeIndex: 5892 entries, 0 to 5891\n",
      "Data columns (total 11 columns):\n",
      " #   Column                      Non-Null Count  Dtype  \n",
      "---  ------                      --------------  -----  \n",
      " 0   country                     5892 non-null   object \n",
      " 1   country_code                5892 non-null   object \n",
      " 2   year                        5892 non-null   int64  \n",
      " 3   gov_exp_pct_gdp             4499 non-null   float64\n",
      " 4   lit_rate_adult_pct          1877 non-null   float64\n",
      " 5   pri_comp_rate_pct           4440 non-null   float64\n",
      " 6   pupil_teacher_primary       3676 non-null   float64\n",
      " 7   pupil_teacher_secondary     3017 non-null   float64\n",
      " 8   school_enrol_primary_pct    5352 non-null   float64\n",
      " 9   school_enrol_secondary_pct  4745 non-null   float64\n",
      " 10  school_enrol_tertiary_pct   4392 non-null   float64\n",
      "dtypes: float64(8), int64(1), object(2)\n",
      "memory usage: 506.5+ KB\n"
     ]
    }
   ],
   "source": [
    "# Info\n",
    "base_dados.info()"
   ]
  },
  {
   "cell_type": "code",
   "execution_count": 88,
   "metadata": {},
   "outputs": [
    {
     "data": {
      "text/plain": [
       "Index(['country', 'country_code', 'year', 'gov_exp_pct_gdp',\n",
       "       'lit_rate_adult_pct', 'pri_comp_rate_pct', 'pupil_teacher_primary',\n",
       "       'pupil_teacher_secondary', 'school_enrol_primary_pct',\n",
       "       'school_enrol_secondary_pct', 'school_enrol_tertiary_pct'],\n",
       "      dtype='object')"
      ]
     },
     "execution_count": 88,
     "metadata": {},
     "output_type": "execute_result"
    }
   ],
   "source": [
    "base_dados.columns"
   ]
  },
  {
   "cell_type": "code",
   "execution_count": 89,
   "metadata": {},
   "outputs": [
    {
     "data": {
      "text/plain": [
       "['country',\n",
       " 'country_code',\n",
       " 'year',\n",
       " 'gov_exp_pct_gdp',\n",
       " 'lit_rate_adult_pct',\n",
       " 'pri_comp_rate_pct',\n",
       " 'pupil_teacher_primary',\n",
       " 'pupil_teacher_secondary',\n",
       " 'school_enrol_primary_pct',\n",
       " 'school_enrol_secondary_pct',\n",
       " 'school_enrol_tertiary_pct']"
      ]
     },
     "execution_count": 89,
     "metadata": {},
     "output_type": "execute_result"
    }
   ],
   "source": [
    "base_dados.columns.to_list()"
   ]
  },
  {
   "cell_type": "code",
   "execution_count": 80,
   "metadata": {},
   "outputs": [
    {
     "data": {
      "text/plain": [
       "(5892, 11)"
      ]
     },
     "execution_count": 80,
     "metadata": {},
     "output_type": "execute_result"
    }
   ],
   "source": [
    "# Verificando dimensao \n",
    "base_dados.shape"
   ]
  },
  {
   "cell_type": "code",
   "execution_count": 81,
   "metadata": {},
   "outputs": [
    {
     "data": {
      "text/plain": [
       "country                          0\n",
       "country_code                     0\n",
       "year                             0\n",
       "gov_exp_pct_gdp               1393\n",
       "lit_rate_adult_pct            4015\n",
       "pri_comp_rate_pct             1452\n",
       "pupil_teacher_primary         2216\n",
       "pupil_teacher_secondary       2875\n",
       "school_enrol_primary_pct       540\n",
       "school_enrol_secondary_pct    1147\n",
       "school_enrol_tertiary_pct     1500\n",
       "dtype: int64"
      ]
     },
     "execution_count": 81,
     "metadata": {},
     "output_type": "execute_result"
    }
   ],
   "source": [
    "# Verificando valores nulos \n",
    "base_dados.isnull().sum()"
   ]
  },
  {
   "cell_type": "code",
   "execution_count": 82,
   "metadata": {},
   "outputs": [
    {
     "data": {
      "text/plain": [
       "np.int64(0)"
      ]
     },
     "execution_count": 82,
     "metadata": {},
     "output_type": "execute_result"
    }
   ],
   "source": [
    "base_dados.duplicated().sum()\n"
   ]
  },
  {
   "cell_type": "code",
   "execution_count": 83,
   "metadata": {},
   "outputs": [
    {
     "data": {
      "text/plain": [
       "<Axes: >"
      ]
     },
     "execution_count": 83,
     "metadata": {},
     "output_type": "execute_result"
    },
    {
     "data": {
      "image/png": "[encoded data removed]",
      "text/plain": [
       "<Figure size 1400x500 with 1 Axes>"
      ]
     },
     "metadata": {},
     "output_type": "display_data"
    }
   ],
   "source": [
    "# Verificando nulos graficamente\n",
    "plt.figure(figsize=(14, 5))\n",
    "sns.heatmap(base_dados.isnull(), cbar=False)"
   ]
  },
  {
   "cell_type": "code",
   "execution_count": 84,
   "metadata": {},
   "outputs": [
    {
     "data": {
      "text/html": [
       "<div>\n",
       "<style scoped>\n",
       "    .dataframe tbody tr th:only-of-type {\n",
       "        vertical-align: middle;\n",
       "    }\n",
       "\n",
       "    .dataframe tbody tr th {\n",
       "        vertical-align: top;\n",
       "    }\n",
       "\n",
       "    .dataframe thead th {\n",
       "        text-align: right;\n",
       "    }\n",
       "</style>\n",
       "<table border=\"1\" class=\"dataframe\">\n",
       "  <thead>\n",
       "    <tr style=\"text-align: right;\">\n",
       "      <th></th>\n",
       "      <th>year</th>\n",
       "      <th>gov_exp_pct_gdp</th>\n",
       "      <th>lit_rate_adult_pct</th>\n",
       "      <th>pri_comp_rate_pct</th>\n",
       "      <th>pupil_teacher_primary</th>\n",
       "      <th>pupil_teacher_secondary</th>\n",
       "      <th>school_enrol_primary_pct</th>\n",
       "      <th>school_enrol_secondary_pct</th>\n",
       "      <th>school_enrol_tertiary_pct</th>\n",
       "    </tr>\n",
       "  </thead>\n",
       "  <tbody>\n",
       "    <tr>\n",
       "      <th>count</th>\n",
       "      <td>5892.000000</td>\n",
       "      <td>4499.000000</td>\n",
       "      <td>1877.000000</td>\n",
       "      <td>4440.000000</td>\n",
       "      <td>3676.000000</td>\n",
       "      <td>3017.000000</td>\n",
       "      <td>5352.000000</td>\n",
       "      <td>4745.000000</td>\n",
       "      <td>4392.000000</td>\n",
       "    </tr>\n",
       "    <tr>\n",
       "      <th>mean</th>\n",
       "      <td>2010.921419</td>\n",
       "      <td>4.320129</td>\n",
       "      <td>79.483333</td>\n",
       "      <td>87.776740</td>\n",
       "      <td>25.344398</td>\n",
       "      <td>17.560340</td>\n",
       "      <td>101.525234</td>\n",
       "      <td>78.939810</td>\n",
       "      <td>36.533796</td>\n",
       "    </tr>\n",
       "    <tr>\n",
       "      <th>std</th>\n",
       "      <td>7.119808</td>\n",
       "      <td>1.736997</td>\n",
       "      <td>17.186877</td>\n",
       "      <td>17.857748</td>\n",
       "      <td>12.780357</td>\n",
       "      <td>7.465528</td>\n",
       "      <td>13.029901</td>\n",
       "      <td>28.350998</td>\n",
       "      <td>26.960123</td>\n",
       "    </tr>\n",
       "    <tr>\n",
       "      <th>min</th>\n",
       "      <td>1999.000000</td>\n",
       "      <td>0.242600</td>\n",
       "      <td>14.000000</td>\n",
       "      <td>14.411250</td>\n",
       "      <td>5.360520</td>\n",
       "      <td>4.979320</td>\n",
       "      <td>8.447979</td>\n",
       "      <td>3.293810</td>\n",
       "      <td>0.117370</td>\n",
       "    </tr>\n",
       "    <tr>\n",
       "      <th>25%</th>\n",
       "      <td>2005.000000</td>\n",
       "      <td>3.180390</td>\n",
       "      <td>65.984039</td>\n",
       "      <td>80.308426</td>\n",
       "      <td>15.888230</td>\n",
       "      <td>11.983680</td>\n",
       "      <td>97.281084</td>\n",
       "      <td>59.364799</td>\n",
       "      <td>12.605780</td>\n",
       "    </tr>\n",
       "    <tr>\n",
       "      <th>50%</th>\n",
       "      <td>2011.000000</td>\n",
       "      <td>4.101967</td>\n",
       "      <td>83.915154</td>\n",
       "      <td>94.604504</td>\n",
       "      <td>22.172125</td>\n",
       "      <td>16.224470</td>\n",
       "      <td>101.556335</td>\n",
       "      <td>85.707581</td>\n",
       "      <td>30.962285</td>\n",
       "    </tr>\n",
       "    <tr>\n",
       "      <th>75%</th>\n",
       "      <td>2017.000000</td>\n",
       "      <td>5.163850</td>\n",
       "      <td>94.215561</td>\n",
       "      <td>99.081194</td>\n",
       "      <td>32.569205</td>\n",
       "      <td>21.583330</td>\n",
       "      <td>106.822365</td>\n",
       "      <td>99.230003</td>\n",
       "      <td>57.325488</td>\n",
       "    </tr>\n",
       "    <tr>\n",
       "      <th>max</th>\n",
       "      <td>2023.000000</td>\n",
       "      <td>15.863470</td>\n",
       "      <td>100.000000</td>\n",
       "      <td>156.167175</td>\n",
       "      <td>100.236490</td>\n",
       "      <td>80.052320</td>\n",
       "      <td>257.434204</td>\n",
       "      <td>194.460022</td>\n",
       "      <td>166.665649</td>\n",
       "    </tr>\n",
       "  </tbody>\n",
       "</table>\n",
       "</div>"
      ],
      "text/plain": [
       "              year  gov_exp_pct_gdp  lit_rate_adult_pct  pri_comp_rate_pct  \\\n",
       "count  5892.000000      4499.000000         1877.000000        4440.000000   \n",
       "mean   2010.921419         4.320129           79.483333          87.776740   \n",
       "std       7.119808         1.736997           17.186877          17.857748   \n",
       "min    1999.000000         0.242600           14.000000          14.411250   \n",
       "25%    2005.000000         3.180390           65.984039          80.308426   \n",
       "50%    2011.000000         4.101967           83.915154          94.604504   \n",
       "75%    2017.000000         5.163850           94.215561          99.081194   \n",
       "max    2023.000000        15.863470          100.000000         156.167175   \n",
       "\n",
       "       pupil_teacher_primary  pupil_teacher_secondary  \\\n",
       "count            3676.000000              3017.000000   \n",
       "mean               25.344398                17.560340   \n",
       "std                12.780357                 7.465528   \n",
       "min                 5.360520                 4.979320   \n",
       "25%                15.888230                11.983680   \n",
       "50%                22.172125                16.224470   \n",
       "75%                32.569205                21.583330   \n",
       "max               100.236490                80.052320   \n",
       "\n",
       "       school_enrol_primary_pct  school_enrol_secondary_pct  \\\n",
       "count               5352.000000                 4745.000000   \n",
       "mean                 101.525234                   78.939810   \n",
       "std                   13.029901                   28.350998   \n",
       "min                    8.447979                    3.293810   \n",
       "25%                   97.281084                   59.364799   \n",
       "50%                  101.556335                   85.707581   \n",
       "75%                  106.822365                   99.230003   \n",
       "max                  257.434204                  194.460022   \n",
       "\n",
       "       school_enrol_tertiary_pct  \n",
       "count                4392.000000  \n",
       "mean                   36.533796  \n",
       "std                    26.960123  \n",
       "min                     0.117370  \n",
       "25%                    12.605780  \n",
       "50%                    30.962285  \n",
       "75%                    57.325488  \n",
       "max                   166.665649  "
      ]
     },
     "execution_count": 84,
     "metadata": {},
     "output_type": "execute_result"
    }
   ],
   "source": [
    "# estatisticas\n",
    "base_dados.describe()"
   ]
  },
  {
   "cell_type": "code",
   "execution_count": 85,
   "metadata": {},
   "outputs": [
    {
     "name": "stdout",
     "output_type": "stream",
     "text": [
      "256\n"
     ]
    }
   ],
   "source": [
    "# quantidade de paises\n",
    "\n",
    "print(len(base_dados['country'].unique()))"
   ]
  }
 ],
 "metadata": {
  "kernelspec": {
   "display_name": ".venv",
   "language": "python",
   "name": "python3"
  },
  "language_info": {
   "codemirror_mode": {
    "name": "ipython",
    "version": 3
   },
   "file_extension": ".py",
   "mimetype": "text/x-python",
   "name": "python",
   "nbconvert_exporter": "python",
   "pygments_lexer": "ipython3",
   "version": "3.12.3"
  }
 },
 "nbformat": 4,
 "nbformat_minor": 2
}
